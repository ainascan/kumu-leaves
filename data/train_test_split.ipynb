{
 "cells": [
  {
   "cell_type": "markdown",
   "metadata": {},
   "source": [
    "# Train Test Split\n",
    "\n",
    "Will train test split any COCO dataset annotation file. In addition, it will perform a 5-fold cross-validation split."
   ]
  },
  {
   "cell_type": "code",
   "execution_count": 1,
   "metadata": {},
   "outputs": [],
   "source": [
    "import os\n",
    "import json\n",
    "import numpy as np\n",
    "from tqdm import tqdm\n",
    "\n",
    "coco_folder = '/home/jack/Mounts/DiskOne/kona_coffee/datasets/compiled_v23'\n",
    "coco_file_name = 'coco.json'\n",
    "\n",
    "train_split = 0.8\n",
    "test_split = 0.1\n",
    "val_split = 0.1\n",
    "\n",
    "train_data = {\n",
    "    'images': [],\n",
    "    'annotations': [],\n",
    "    'categories': []\n",
    "}\n",
    "\n",
    "test_data = {\n",
    "    'images': [],\n",
    "    'annotations': [],\n",
    "    'categories': []\n",
    "}\n",
    "\n",
    "validation_data = {\n",
    "    'images': [],\n",
    "    'annotations': [],\n",
    "    'categories': []\n",
    "}"
   ]
  },
  {
   "cell_type": "code",
   "execution_count": 2,
   "metadata": {},
   "outputs": [],
   "source": [
    "new_coco_data = None\n",
    "with open(os.path.join(coco_folder, coco_file_name), 'r') as f:\n",
    "    new_coco_data = json.load(f)\n",
    "\n",
    "train_data['categories'] = new_coco_data['categories']\n",
    "test_data['categories'] = new_coco_data['categories']\n",
    "validation_data['categories'] = new_coco_data['categories']"
   ]
  },
  {
   "cell_type": "code",
   "execution_count": 3,
   "metadata": {},
   "outputs": [
    {
     "name": "stderr",
     "output_type": "stream",
     "text": [
      "100%|██████████| 1148/1148 [00:00<00:00, 9117.07it/s]"
     ]
    },
    {
     "name": "stdout",
     "output_type": "stream",
     "text": [
      "Grouped default: 6521\n",
      "Grouped augmented: 31559\n"
     ]
    },
    {
     "name": "stderr",
     "output_type": "stream",
     "text": [
      "\n"
     ]
    }
   ],
   "source": [
    "grouped_default = []\n",
    "grouped_augmented = []\n",
    "\n",
    "mapped_annotations = {}\n",
    "for annotation in new_coco_data['annotations']:\n",
    "    if annotation['image_id'] not in mapped_annotations:\n",
    "        mapped_annotations[annotation['image_id']] = []\n",
    "    mapped_annotations[annotation['image_id']].append(annotation)\n",
    "\n",
    "for image in tqdm(new_coco_data['images']):\n",
    "    annotations = mapped_annotations.get(image['id'])\n",
    "    if annotations is not None:\n",
    "        for annotation in annotations:\n",
    "            if annotation.get('extras', {}).get('augmented') is True:\n",
    "                grouped_augmented.append((image, annotation))\n",
    "            else:\n",
    "                grouped_default.append((image, annotation))\n",
    "            \n",
    "np.random.shuffle(grouped_augmented)\n",
    "np.random.shuffle(grouped_default)\n",
    "            \n",
    "print(f'Grouped default: {len(grouped_default)}')\n",
    "print(f'Grouped augmented: {len(grouped_augmented)}')"
   ]
  },
  {
   "cell_type": "code",
   "execution_count": 4,
   "metadata": {},
   "outputs": [
    {
     "name": "stdout",
     "output_type": "stream",
     "text": [
      "Training size: 30464\n",
      "Test size: 3808\n",
      "Validation size: 3808\n"
     ]
    }
   ],
   "source": [
    "total_annotations = len(grouped_default) + len(grouped_augmented)\n",
    "\n",
    "training_size = int(total_annotations * train_split)\n",
    "test_size = int(total_annotations * test_split)\n",
    "validation_size = int(total_annotations * val_split)\n",
    "\n",
    "print(f'Training size: {training_size}')\n",
    "print(f'Test size: {test_size}')\n",
    "print(f'Validation size: {validation_size}')"
   ]
  },
  {
   "cell_type": "code",
   "execution_count": 5,
   "metadata": {},
   "outputs": [
    {
     "name": "stdout",
     "output_type": "stream",
     "text": [
      "Training set size: 30464\n",
      "Test set size: 3808\n",
      "Validation set size: 3808\n"
     ]
    }
   ],
   "source": [
    "all_grouped = grouped_augmented + grouped_default\n",
    "\n",
    "# select all augmented and some default for training\n",
    "training_set = all_grouped[:training_size] \n",
    "\n",
    "# slice = max(0, training_size - len(grouped_augmented))\n",
    "# training_set += grouped_default[:slice]\n",
    "\n",
    "# select the rest for validation\n",
    "slice = training_size\n",
    "validation_set = all_grouped[slice:slice + validation_size]\n",
    "\n",
    "# select some default for test\n",
    "slice = slice + validation_size\n",
    "test_set = all_grouped[slice:slice + test_size]\n",
    "\n",
    "\n",
    "\n",
    "print('Training set size: {}'.format(len(training_set)))\n",
    "print('Test set size: {}'.format(len(test_set)))\n",
    "print('Validation set size: {}'.format(len(validation_set)))\n",
    "\n",
    "for image, annotation in training_set:\n",
    "    train_data['images'].append(image)\n",
    "    train_data['annotations'].append(annotation)\n",
    "\n",
    "for image, annotation in test_set:\n",
    "    test_data['images'].append(image)\n",
    "    test_data['annotations'].append(annotation)\n",
    "\n",
    "for image, annotation in validation_set:\n",
    "    validation_data['images'].append(image)\n",
    "    validation_data['annotations'].append(annotation)"
   ]
  },
  {
   "cell_type": "code",
   "execution_count": 6,
   "metadata": {},
   "outputs": [],
   "source": [
    "with open(os.path.join(coco_folder, 'train.json'), 'w') as f:\n",
    "    json.dump(train_data, f)\n",
    "\n",
    "with open(os.path.join(coco_folder, 'test.json'), 'w') as f:\n",
    "    json.dump(test_data, f)\n",
    "    \n",
    "with open(os.path.join(coco_folder, 'validation.json'), 'w') as f:\n",
    "    json.dump(validation_data, f)"
   ]
  }
 ],
 "metadata": {
  "kernelspec": {
   "display_name": "datadev-5ox7fytP",
   "language": "python",
   "name": "python3"
  },
  "language_info": {
   "codemirror_mode": {
    "name": "ipython",
    "version": 3
   },
   "file_extension": ".py",
   "mimetype": "text/x-python",
   "name": "python",
   "nbconvert_exporter": "python",
   "pygments_lexer": "ipython3",
   "version": "3.10.12"
  }
 },
 "nbformat": 4,
 "nbformat_minor": 2
}
